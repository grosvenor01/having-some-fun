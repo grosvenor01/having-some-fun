{
 "cells": [
  {
   "cell_type": "code",
   "execution_count": 6,
   "metadata": {},
   "outputs": [
    {
     "name": "stdout",
     "output_type": "stream",
     "text": [
      "   ID   isohyéte          couleur  \\\n",
      "0   5    400-500             vert   \n",
      "1   3    600-800       bleu clair   \n",
      "2   2   800-1000    bleu outremer   \n",
      "3   1  > 1000 mm       bleu foncé   \n",
      "4   4    500-600  bleu trés clair   \n",
      "5   9     50-100           marron   \n",
      "6  10        <50            rouge   \n",
      "7   8    100-200      jaune foncé   \n",
      "8   7    200-300      jaune clair   \n",
      "9   6    300-400             rose   \n",
      "\n",
      "                                            geometry  \n",
      "0  MULTIPOLYGON (((8.32044 36.07959, 8.31881 36.0...  \n",
      "1  MULTIPOLYGON (((3.22217 36.76738, 3.22396 36.7...  \n",
      "2  MULTIPOLYGON (((6.02635 36.848, 6.06394 36.827...  \n",
      "3  MULTIPOLYGON (((6.45465 37.08303, 6.44266 37.0...  \n",
      "4  MULTIPOLYGON (((1.92336 36.57779, 1.92378 36.5...  \n",
      "5  MULTIPOLYGON (((2.3895 23.99811, 2.39879 24.02...  \n",
      "6  MULTIPOLYGON (((-3.6725 31.37657, -3.6301 31.3...  \n",
      "7  MULTIPOLYGON (((6.73335 34.63845, 6.73394 34.6...  \n",
      "8  MULTIPOLYGON (((-1.61585 34.07287, -1.59271 34...  \n",
      "9  MULTIPOLYGON (((0.01329 34.78866, 0.0199 34.80...  \n",
      "Coordinate Reference System: GEOGCS[\"unnamed\",DATUM[\"MIF 0\",SPHEROID[\"WGS 84 (MAPINFO Datum 0)\",6378137.01,298.257223563]],PRIMEM[\"Greenwich\",0],UNIT[\"degree\",0.0174532925199433,AUTHORITY[\"EPSG\",\"9122\"]],AXIS[\"Latitude\",NORTH],AXIS[\"Longitude\",EAST]]\n",
      "Bounds: [-8.5      18.956251 11.997849 37.089748]\n"
     ]
    }
   ],
   "source": [
    "import geopandas as gpd\n",
    "\n",
    "# Load the .TAB file\n",
    "gdf = gpd.read_file(\"Maps/Drive/carte pluviométrique_algerie dig.TAB\")\n",
    "print(gdf)\n",
    "print(\"Coordinate Reference System:\", gdf.crs)\n",
    "print(\"Bounds:\", gdf.total_bounds)"
   ]
  },
  {
   "cell_type": "code",
   "execution_count": 7,
   "metadata": {},
   "outputs": [
    {
     "name": "stdout",
     "output_type": "stream",
     "text": [
      "Width: 20.497849000000002\n",
      "Height: 18.133497\n",
      "Pixel Size X: 2.0497849\n",
      "Pixel Size Y: 4.53337425\n"
     ]
    }
   ],
   "source": [
    "bounds = gdf.total_bounds  # [minx, miny, maxx, maxy]\n",
    "width = bounds[2] - bounds[0]\n",
    "height = bounds[3] - bounds[1]\n",
    "\n",
    "print(\"Width:\", width)\n",
    "print(\"Height:\", height)\n",
    "\n",
    "pixel_size_x = width / gdf.shape[0]\n",
    "pixel_size_y = height / gdf.shape[1]\n",
    "\n",
    "print(\"Pixel Size X:\", pixel_size_x)\n",
    "print(\"Pixel Size Y:\", pixel_size_y)"
   ]
  },
  {
   "cell_type": "code",
   "execution_count": 9,
   "metadata": {},
   "outputs": [
    {
     "name": "stdout",
     "output_type": "stream",
     "text": [
      "Pixel Size X in km: 182.83174161091657\n",
      "Pixel Size Y in km: 504.65522150999993\n"
     ]
    }
   ],
   "source": [
    "import math \n",
    "average_latitude = 36.75 \n",
    "\n",
    "lat_rad = math.radians(average_latitude)\n",
    "km_per_degree_latitude = 111.32 \n",
    "km_per_degree_longitude = 111.32 * math.cos(lat_rad)\n",
    "\n",
    "pixel_size_x_deg = 2.0497849\n",
    "pixel_size_y_deg = 4.53337425\n",
    "\n",
    "pixel_size_x_km = pixel_size_x_deg * km_per_degree_longitude\n",
    "pixel_size_y_km = pixel_size_y_deg * km_per_degree_latitude\n",
    "\n",
    "print(\"Pixel Size X in km:\", pixel_size_x_km)\n",
    "print(\"Pixel Size Y in km:\", pixel_size_y_km)"
   ]
  }
 ],
 "metadata": {
  "kernelspec": {
   "display_name": "venv",
   "language": "python",
   "name": "python3"
  },
  "language_info": {
   "codemirror_mode": {
    "name": "ipython",
    "version": 3
   },
   "file_extension": ".py",
   "mimetype": "text/x-python",
   "name": "python",
   "nbconvert_exporter": "python",
   "pygments_lexer": "ipython3",
   "version": "3.11.9"
  }
 },
 "nbformat": 4,
 "nbformat_minor": 2
}
