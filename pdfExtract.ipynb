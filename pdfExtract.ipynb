{
 "cells": [
  {
   "cell_type": "code",
   "execution_count": 2,
   "metadata": {},
   "outputs": [
    {
     "name": "stdout",
     "output_type": "stream",
     "text": [
      "doc corr88.txt is done\n",
      "doc corr89.txt is done\n"
     ]
    }
   ],
   "source": [
    "from groq import Groq\n",
    "import os\n",
    "import datetime\n",
    "import re\n",
    "\n",
    "client = Groq(\n",
    "    api_key=\"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\"\n",
    ")\n",
    "for i in os.listdir(\"Corrected\"):\n",
    "    with open(f'Corrected/{i}', 'r' , encoding=\"utf8\") as resume_file:\n",
    "        c=40000\n",
    "        resume_f = resume_file.read()\n",
    "        for j in range(c , len(resume_f) - 20000 , 5500  ):\n",
    "            resume = resume_f[j : j+5000]\n",
    "            completion = client.chat.completions.create(\n",
    "                model=\"llama3-70b-8192\",\n",
    "                messages=[\n",
    "                    {\n",
    "                        \"role\": \"user\",\n",
    "                        \"content\": f\"Extract the numeric values of the following parameters from the provided text: pH% ,Calcaire Total , Matière Organique (MO) , Capacité d'Échange Cationique (CEC) , Conductivité Électrique (CE) , Densité Apparente (Da) add to it the location of the study which is basically a wilaya of algeria  and give the result as JSON format. Here is the text: {resume}\"\n",
    "                    },\n",
    "                    {\n",
    "                        \"role\": \"assistant\",\n",
    "                        \"content\": \"please provide text details\"\n",
    "                    }\n",
    "                ],\n",
    "                temperature=1,\n",
    "                max_tokens=1024,\n",
    "                top_p=1,\n",
    "                stream=False,\n",
    "                stop=None,\n",
    "            )\n",
    "\n",
    "            output_file_name = f\"FinalData.md\"    \n",
    "            with open(output_file_name, 'a') as output_file:\n",
    "                try : \n",
    "                    matches = re.findall(r'```(.*?)```', completion.choices[0].message.content, re.DOTALL)\n",
    "                    output_file.write(f\"this output is for the doc : {i} here is his output \\n  {matches[0]}\")\n",
    "                except Exception as e : \n",
    "                    pass\n",
    "        print(f\"doc {i} is done\")"
   ]
  },
  {
   "cell_type": "code",
   "execution_count": null,
   "metadata": {},
   "outputs": [],
   "source": []
  }
 ],
 "metadata": {
  "kernelspec": {
   "display_name": "venv",
   "language": "python",
   "name": "python3"
  },
  "language_info": {
   "codemirror_mode": {
    "name": "ipython",
    "version": 3
   },
   "file_extension": ".py",
   "mimetype": "text/x-python",
   "name": "python",
   "nbconvert_exporter": "python",
   "pygments_lexer": "ipython3",
   "version": "3.11.9"
  }
 },
 "nbformat": 4,
 "nbformat_minor": 2
}
